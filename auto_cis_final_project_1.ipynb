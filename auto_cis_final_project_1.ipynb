{
  "cells": [
    {
      "cell_type": "markdown",
      "metadata": {
        "id": "view-in-github",
        "colab_type": "text"
      },
      "source": [
        "<a href=\"https://colab.research.google.com/github/catherine023/Auto-Insurance-Company-Claims/blob/main/auto_cis_final_project_1.ipynb\" target=\"_parent\"><img src=\"https://colab.research.google.com/assets/colab-badge.svg\" alt=\"Open In Colab\"/></a>"
      ]
    },
    {
      "cell_type": "code",
      "execution_count": null,
      "id": "63326a38",
      "metadata": {
        "id": "63326a38"
      },
      "outputs": [],
      "source": [
        "import pandas as pd\n",
        "import numpy as np\n",
        "import matplotlib.pyplot as plt\n",
        "import seaborn as sns"
      ]
    },
    {
      "cell_type": "code",
      "execution_count": null,
      "id": "c7f0920a",
      "metadata": {
        "id": "c7f0920a",
        "outputId": "a0f10a77-77ac-4e5f-bca0-61672b638100"
      },
      "outputs": [
        {
          "name": "stdout",
          "output_type": "stream",
          "text": [
            "<class 'pandas.core.frame.DataFrame'>\n",
            "   index   NAIC                             Company Name  Ratio  \\\n",
            "0      0  32786  Progressive Specialty Insurance Company    0.0   \n",
            "1      1  19976           Amica Mutual Insurance Company    0.0   \n",
            "2      2  25453  Nationwide Insurance Company of America    0.0   \n",
            "3      3  15024       Preferred Mutual Insurance Company    0.0   \n",
            "4      4  10052         Chubb National Insurance Company    0.0   \n",
            "\n",
            "   Upheld Complaints  Question of Fact Complaints  Not Upheld Complaints  \\\n",
            "0                  0                           17                     29   \n",
            "1                  0                            9                      8   \n",
            "2                  0                            9                      4   \n",
            "3                  0                            3                      2   \n",
            "4                  0                            1                      2   \n",
            "\n",
            "   Total Complaints  Premiums Written (in Millions)  Rank  Filing Year  \n",
            "0                46                         204.173     1         2016  \n",
            "1                17                          84.769     2         2016  \n",
            "2                13                          65.335     3         2016  \n",
            "3                 5                          62.505     4         2016  \n",
            "4                 3                          46.735     5         2016  \n"
          ]
        }
      ],
      "source": [
        "import pandas as pd\n",
        "import numpy as np\n",
        "import matplotlib.pyplot as plt\n",
        "import seaborn as sns\n",
        "\n",
        "df = pd.read_csv('Auto_insurancec.csv')\n",
        "\n",
        "print (type(df))\n",
        "\n",
        "df = pd.read_csv('Auto_insurancec.csv')\n",
        "\n",
        "print(df.head())"
      ]
    },
    {
      "cell_type": "code",
      "execution_count": null,
      "id": "79041de1",
      "metadata": {
        "id": "79041de1",
        "outputId": "80d8a333-994e-459a-e956-0e0f78bc2456"
      },
      "outputs": [
        {
          "name": "stdout",
          "output_type": "stream",
          "text": [
            "(1358, 11)\n",
            "rows 1358\n",
            "columns 11\n",
            "Shape of the DataFrame: (1358, 11)\n",
            "Number of rows: 1358\n",
            "Number of columns: 11\n"
          ]
        }
      ],
      "source": [
        "rows_columns= df.shape\n",
        "print(rows_columns)\n",
        "print('rows', rows_columns[0])\n",
        "print('columns', rows_columns[1])\n",
        "\n",
        "print(\"Shape of the DataFrame:\", rows_columns)\n",
        "\n",
        "num_rows = rows_columns[0]\n",
        "num_columns = rows_columns[1]\n",
        "\n",
        "print ('Number of rows:', num_rows)\n",
        "print('Number of columns:', num_columns)"
      ]
    },
    {
      "cell_type": "code",
      "execution_count": null,
      "id": "831d7227",
      "metadata": {
        "id": "831d7227",
        "outputId": "98569c18-1978-4120-df25-d2d94f7c9672"
      },
      "outputs": [
        {
          "name": "stdout",
          "output_type": "stream",
          "text": [
            "<class 'pandas.core.frame.DataFrame'>\n",
            "RangeIndex: 8 entries, 0 to 7\n",
            "Data columns (total 9 columns):\n",
            " #   Column    Non-Null Count  Dtype \n",
            "---  ------    --------------  ----- \n",
            " 0   index     8 non-null      int64 \n",
            " 1   $schema   8 non-null      object\n",
            " 2   width     8 non-null      int64 \n",
            " 3   height    8 non-null      int64 \n",
            " 4   autosize  2 non-null      object\n",
            " 5   mark      1 non-null      object\n",
            " 6   encoding  3 non-null      object\n",
            " 7   data      1 non-null      object\n",
            " 8   config    2 non-null      object\n",
            "dtypes: int64(3), object(6)\n",
            "memory usage: 708.0+ bytes\n",
            "None\n"
          ]
        }
      ],
      "source": [
        "print(df.info())"
      ]
    },
    {
      "cell_type": "code",
      "execution_count": null,
      "id": "cd4a0a79",
      "metadata": {
        "id": "cd4a0a79",
        "outputId": "84f5f5b6-182f-487f-e458-6cc84c4b699d"
      },
      "outputs": [
        {
          "name": "stdout",
          "output_type": "stream",
          "text": [
            "<bound method DataFrame.isnull of       index   NAIC                             Company Name     Ratio  \\\n",
            "0         0  32786  Progressive Specialty Insurance Company    0.0000   \n",
            "1         1  19976           Amica Mutual Insurance Company    0.0000   \n",
            "2         2  25453  Nationwide Insurance Company of America    0.0000   \n",
            "3         3  15024       Preferred Mutual Insurance Company    0.0000   \n",
            "4         4  10052         Chubb National Insurance Company    0.0000   \n",
            "...     ...    ...                                      ...       ...   \n",
            "1353   1353  22667           ACE American Insurance Company   12.5881   \n",
            "1354   1354  23809          Granite State Insurance Company   14.2471   \n",
            "1355   1355  10982            Long Island Insurance Company   25.8860   \n",
            "1356   1356  16535        Zurich American Insurance Company   36.5845   \n",
            "1357   1357  42889         Victoria Fire & Casualty Company  152.9403   \n",
            "\n",
            "      Upheld Complaints  Question of Fact Complaints  Not Upheld Complaints  \\\n",
            "0                     0                           17                     29   \n",
            "1                     0                            9                      8   \n",
            "2                     0                            9                      4   \n",
            "3                     0                            3                      2   \n",
            "4                     0                            1                      2   \n",
            "...                 ...                          ...                    ...   \n",
            "1353                  1                            0                      3   \n",
            "1354                  1                            0                      0   \n",
            "1355                265                           17                     73   \n",
            "1356                  1                            0                      1   \n",
            "1357                  1                            1                      1   \n",
            "\n",
            "      Total Complaints  Premiums Written (in Millions)  Rank  Filing Year  \n",
            "0                   46                         204.173     1         2016  \n",
            "1                   17                          84.769     2         2016  \n",
            "2                   13                          65.335     3         2016  \n",
            "3                    5                          62.505     4         2016  \n",
            "4                    3                          46.735     5         2016  \n",
            "...                ...                             ...   ...          ...  \n",
            "1353                 4                           0.079   177         2009  \n",
            "1354                 1                           0.070   178         2009  \n",
            "1355               355                          10.237   179         2009  \n",
            "1356                 2                           0.027   180         2009  \n",
            "1357                 3                           0.007   181         2009  \n",
            "\n",
            "[1358 rows x 11 columns]>\n"
          ]
        }
      ],
      "source": [
        "print(df.isnull)"
      ]
    },
    {
      "cell_type": "code",
      "execution_count": null,
      "id": "62409c97",
      "metadata": {
        "id": "62409c97",
        "outputId": "d7a103e6-85e7-4af2-d35b-08f39eb232bf"
      },
      "outputs": [
        {
          "name": "stdout",
          "output_type": "stream",
          "text": [
            "['index', 'NAIC', 'Company Name', 'Ratio', 'Upheld Complaints', 'Question of Fact Complaints', 'Not Upheld Complaints', 'Total Complaints', 'Premiums Written (in Millions)', 'Rank', 'Filing Year']\n"
          ]
        }
      ],
      "source": [
        "list_columns=list(df.columns)\n",
        "print(list_columns)"
      ]
    },
    {
      "cell_type": "code",
      "execution_count": null,
      "id": "e1db3aa3",
      "metadata": {
        "id": "e1db3aa3",
        "outputId": "dfa9408e-aaeb-42c6-8d0b-ac7a7db2a66c"
      },
      "outputs": [
        {
          "name": "stdout",
          "output_type": "stream",
          "text": [
            "      index   NAIC  Company Name  Ratio  Upheld Complaints  \\\n",
            "0     False  False         False  False              False   \n",
            "1     False  False         False  False              False   \n",
            "2     False  False         False  False              False   \n",
            "3     False  False         False  False              False   \n",
            "4     False  False         False  False              False   \n",
            "...     ...    ...           ...    ...                ...   \n",
            "1353  False  False         False  False              False   \n",
            "1354  False  False         False  False              False   \n",
            "1355  False  False         False  False              False   \n",
            "1356  False  False         False  False              False   \n",
            "1357  False  False         False  False              False   \n",
            "\n",
            "      Question of Fact Complaints  Not Upheld Complaints  Total Complaints  \\\n",
            "0                           False                  False             False   \n",
            "1                           False                  False             False   \n",
            "2                           False                  False             False   \n",
            "3                           False                  False             False   \n",
            "4                           False                  False             False   \n",
            "...                           ...                    ...               ...   \n",
            "1353                        False                  False             False   \n",
            "1354                        False                  False             False   \n",
            "1355                        False                  False             False   \n",
            "1356                        False                  False             False   \n",
            "1357                        False                  False             False   \n",
            "\n",
            "      Premiums Written (in Millions)   Rank  Filing Year  \n",
            "0                              False  False        False  \n",
            "1                              False  False        False  \n",
            "2                              False  False        False  \n",
            "3                              False  False        False  \n",
            "4                              False  False        False  \n",
            "...                              ...    ...          ...  \n",
            "1353                           False  False        False  \n",
            "1354                           False  False        False  \n",
            "1355                           False  False        False  \n",
            "1356                           False  False        False  \n",
            "1357                           False  False        False  \n",
            "\n",
            "[1358 rows x 11 columns]\n"
          ]
        }
      ],
      "source": [
        "#check whether each element in a DataFrame is missing\n",
        "print(df.isnull())"
      ]
    },
    {
      "cell_type": "code",
      "execution_count": null,
      "id": "c9a08058",
      "metadata": {
        "id": "c9a08058",
        "outputId": "ab94873e-a97e-494b-852d-90942f67ef53"
      },
      "outputs": [
        {
          "name": "stdout",
          "output_type": "stream",
          "text": [
            "      index   NAIC  Company Name  Ratio  Upheld Complaints  \\\n",
            "0     False  False         False  False              False   \n",
            "1     False  False         False  False              False   \n",
            "2     False  False         False  False              False   \n",
            "3     False  False         False  False              False   \n",
            "4     False  False         False  False              False   \n",
            "...     ...    ...           ...    ...                ...   \n",
            "1353  False  False         False  False              False   \n",
            "1354  False  False         False  False              False   \n",
            "1355  False  False         False  False              False   \n",
            "1356  False  False         False  False              False   \n",
            "1357  False  False         False  False              False   \n",
            "\n",
            "      Question of Fact Complaints  Not Upheld Complaints  Total Complaints  \\\n",
            "0                           False                  False             False   \n",
            "1                           False                  False             False   \n",
            "2                           False                  False             False   \n",
            "3                           False                  False             False   \n",
            "4                           False                  False             False   \n",
            "...                           ...                    ...               ...   \n",
            "1353                        False                  False             False   \n",
            "1354                        False                  False             False   \n",
            "1355                        False                  False             False   \n",
            "1356                        False                  False             False   \n",
            "1357                        False                  False             False   \n",
            "\n",
            "      Premiums Written (in Millions)   Rank  Filing Year  \n",
            "0                              False  False        False  \n",
            "1                              False  False        False  \n",
            "2                              False  False        False  \n",
            "3                              False  False        False  \n",
            "4                              False  False        False  \n",
            "...                              ...    ...          ...  \n",
            "1353                           False  False        False  \n",
            "1354                           False  False        False  \n",
            "1355                           False  False        False  \n",
            "1356                           False  False        False  \n",
            "1357                           False  False        False  \n",
            "\n",
            "[1358 rows x 11 columns]\n"
          ]
        }
      ],
      "source": [
        "#check whether each element in a DataFrame is missing\n",
        "print(df.isnull())"
      ]
    },
    {
      "cell_type": "code",
      "execution_count": null,
      "id": "945197d2",
      "metadata": {
        "id": "945197d2",
        "outputId": "17305725-a7d0-4e10-a91a-eb95cac203b4"
      },
      "outputs": [
        {
          "name": "stdout",
          "output_type": "stream",
          "text": [
            "index                             0\n",
            "NAIC                              0\n",
            "Company Name                      0\n",
            "Ratio                             0\n",
            "Upheld Complaints                 0\n",
            "Question of Fact Complaints       0\n",
            "Not Upheld Complaints             0\n",
            "Total Complaints                  0\n",
            "Premiums Written (in Millions)    0\n",
            "Rank                              0\n",
            "Filing Year                       0\n",
            "dtype: int64\n"
          ]
        }
      ],
      "source": [
        "# isnull().sum) counts the number of missing values in each column.\n",
        "#data cleaning\n",
        "print(df.isnull().sum())"
      ]
    },
    {
      "cell_type": "code",
      "execution_count": null,
      "id": "2bf849ad",
      "metadata": {
        "id": "2bf849ad"
      },
      "outputs": [],
      "source": [
        "#Summarize the dataset using your own words, highlighting the key insights obtained\n",
        "#through the output of Pandas methods.\n",
        "\n"
      ]
    }
  ],
  "metadata": {
    "kernelspec": {
      "display_name": "Python 3 (ipykernel)",
      "language": "python",
      "name": "python3"
    },
    "language_info": {
      "codemirror_mode": {
        "name": "ipython",
        "version": 3
      },
      "file_extension": ".py",
      "mimetype": "text/x-python",
      "name": "python",
      "nbconvert_exporter": "python",
      "pygments_lexer": "ipython3",
      "version": "3.11.4"
    },
    "colab": {
      "provenance": [],
      "include_colab_link": true
    }
  },
  "nbformat": 4,
  "nbformat_minor": 5
}